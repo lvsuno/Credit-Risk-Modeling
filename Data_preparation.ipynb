{
 "cells": [
  {
   "cell_type": "markdown",
   "metadata": {},
   "source": [
    "# Data preparation"
   ]
  },
  {
   "cell_type": "markdown",
   "metadata": {},
   "source": [
    "## Import Libraries"
   ]
  },
  {
   "cell_type": "code",
   "execution_count": 26,
   "metadata": {},
   "outputs": [],
   "source": [
    "import numpy as np\n",
    "import pandas as pd"
   ]
  },
  {
   "cell_type": "markdown",
   "metadata": {},
   "source": [
    "## Import Data"
   ]
  },
  {
   "cell_type": "code",
   "execution_count": 27,
   "metadata": {},
   "outputs": [
    {
     "name": "stderr",
     "output_type": "stream",
     "text": [
      "/var/folders/7v/syzn01012_3fnr7bzfw4zzl40000gp/T/ipykernel_63169/609116532.py:1: DtypeWarning: Columns (19) have mixed types. Specify dtype option on import or set low_memory=False.\n",
      "  loan_data_backup = pd.read_csv(\"loan_data_2007_2014.csv\")\n"
     ]
    }
   ],
   "source": [
    "loan_data_backup = pd.read_csv(\"loan_data_2007_2014.csv\")"
   ]
  },
  {
   "cell_type": "code",
   "execution_count": 28,
   "metadata": {},
   "outputs": [],
   "source": [
    "loan_data = loan_data_backup.copy()"
   ]
  },
  {
   "cell_type": "code",
   "execution_count": 29,
   "metadata": {},
   "outputs": [
    {
     "data": {
      "text/html": [
       "<div>\n",
       "<style scoped>\n",
       "    .dataframe tbody tr th:only-of-type {\n",
       "        vertical-align: middle;\n",
       "    }\n",
       "\n",
       "    .dataframe tbody tr th {\n",
       "        vertical-align: top;\n",
       "    }\n",
       "\n",
       "    .dataframe thead th {\n",
       "        text-align: right;\n",
       "    }\n",
       "</style>\n",
       "<table border=\"1\" class=\"dataframe\">\n",
       "  <thead>\n",
       "    <tr style=\"text-align: right;\">\n",
       "      <th></th>\n",
       "      <th>id</th>\n",
       "      <th>member_id</th>\n",
       "      <th>loan_amnt</th>\n",
       "      <th>funded_amnt</th>\n",
       "      <th>funded_amnt_inv</th>\n",
       "      <th>term</th>\n",
       "      <th>int_rate</th>\n",
       "      <th>installment</th>\n",
       "      <th>grade</th>\n",
       "      <th>sub_grade</th>\n",
       "      <th>...</th>\n",
       "      <th>total_bal_il</th>\n",
       "      <th>il_util</th>\n",
       "      <th>open_rv_12m</th>\n",
       "      <th>open_rv_24m</th>\n",
       "      <th>max_bal_bc</th>\n",
       "      <th>all_util</th>\n",
       "      <th>total_rev_hi_lim</th>\n",
       "      <th>inq_fi</th>\n",
       "      <th>total_cu_tl</th>\n",
       "      <th>inq_last_12m</th>\n",
       "    </tr>\n",
       "  </thead>\n",
       "  <tbody>\n",
       "    <tr>\n",
       "      <th>0</th>\n",
       "      <td>1077501</td>\n",
       "      <td>1296599</td>\n",
       "      <td>5000</td>\n",
       "      <td>5000</td>\n",
       "      <td>4975.0</td>\n",
       "      <td>36 months</td>\n",
       "      <td>10.65</td>\n",
       "      <td>162.87</td>\n",
       "      <td>B</td>\n",
       "      <td>B2</td>\n",
       "      <td>...</td>\n",
       "      <td>NaN</td>\n",
       "      <td>NaN</td>\n",
       "      <td>NaN</td>\n",
       "      <td>NaN</td>\n",
       "      <td>NaN</td>\n",
       "      <td>NaN</td>\n",
       "      <td>NaN</td>\n",
       "      <td>NaN</td>\n",
       "      <td>NaN</td>\n",
       "      <td>NaN</td>\n",
       "    </tr>\n",
       "    <tr>\n",
       "      <th>1</th>\n",
       "      <td>1077430</td>\n",
       "      <td>1314167</td>\n",
       "      <td>2500</td>\n",
       "      <td>2500</td>\n",
       "      <td>2500.0</td>\n",
       "      <td>60 months</td>\n",
       "      <td>15.27</td>\n",
       "      <td>59.83</td>\n",
       "      <td>C</td>\n",
       "      <td>C4</td>\n",
       "      <td>...</td>\n",
       "      <td>NaN</td>\n",
       "      <td>NaN</td>\n",
       "      <td>NaN</td>\n",
       "      <td>NaN</td>\n",
       "      <td>NaN</td>\n",
       "      <td>NaN</td>\n",
       "      <td>NaN</td>\n",
       "      <td>NaN</td>\n",
       "      <td>NaN</td>\n",
       "      <td>NaN</td>\n",
       "    </tr>\n",
       "    <tr>\n",
       "      <th>2</th>\n",
       "      <td>1077175</td>\n",
       "      <td>1313524</td>\n",
       "      <td>2400</td>\n",
       "      <td>2400</td>\n",
       "      <td>2400.0</td>\n",
       "      <td>36 months</td>\n",
       "      <td>15.96</td>\n",
       "      <td>84.33</td>\n",
       "      <td>C</td>\n",
       "      <td>C5</td>\n",
       "      <td>...</td>\n",
       "      <td>NaN</td>\n",
       "      <td>NaN</td>\n",
       "      <td>NaN</td>\n",
       "      <td>NaN</td>\n",
       "      <td>NaN</td>\n",
       "      <td>NaN</td>\n",
       "      <td>NaN</td>\n",
       "      <td>NaN</td>\n",
       "      <td>NaN</td>\n",
       "      <td>NaN</td>\n",
       "    </tr>\n",
       "    <tr>\n",
       "      <th>3</th>\n",
       "      <td>1076863</td>\n",
       "      <td>1277178</td>\n",
       "      <td>10000</td>\n",
       "      <td>10000</td>\n",
       "      <td>10000.0</td>\n",
       "      <td>36 months</td>\n",
       "      <td>13.49</td>\n",
       "      <td>339.31</td>\n",
       "      <td>C</td>\n",
       "      <td>C1</td>\n",
       "      <td>...</td>\n",
       "      <td>NaN</td>\n",
       "      <td>NaN</td>\n",
       "      <td>NaN</td>\n",
       "      <td>NaN</td>\n",
       "      <td>NaN</td>\n",
       "      <td>NaN</td>\n",
       "      <td>NaN</td>\n",
       "      <td>NaN</td>\n",
       "      <td>NaN</td>\n",
       "      <td>NaN</td>\n",
       "    </tr>\n",
       "    <tr>\n",
       "      <th>4</th>\n",
       "      <td>1075358</td>\n",
       "      <td>1311748</td>\n",
       "      <td>3000</td>\n",
       "      <td>3000</td>\n",
       "      <td>3000.0</td>\n",
       "      <td>60 months</td>\n",
       "      <td>12.69</td>\n",
       "      <td>67.79</td>\n",
       "      <td>B</td>\n",
       "      <td>B5</td>\n",
       "      <td>...</td>\n",
       "      <td>NaN</td>\n",
       "      <td>NaN</td>\n",
       "      <td>NaN</td>\n",
       "      <td>NaN</td>\n",
       "      <td>NaN</td>\n",
       "      <td>NaN</td>\n",
       "      <td>NaN</td>\n",
       "      <td>NaN</td>\n",
       "      <td>NaN</td>\n",
       "      <td>NaN</td>\n",
       "    </tr>\n",
       "    <tr>\n",
       "      <th>...</th>\n",
       "      <td>...</td>\n",
       "      <td>...</td>\n",
       "      <td>...</td>\n",
       "      <td>...</td>\n",
       "      <td>...</td>\n",
       "      <td>...</td>\n",
       "      <td>...</td>\n",
       "      <td>...</td>\n",
       "      <td>...</td>\n",
       "      <td>...</td>\n",
       "      <td>...</td>\n",
       "      <td>...</td>\n",
       "      <td>...</td>\n",
       "      <td>...</td>\n",
       "      <td>...</td>\n",
       "      <td>...</td>\n",
       "      <td>...</td>\n",
       "      <td>...</td>\n",
       "      <td>...</td>\n",
       "      <td>...</td>\n",
       "      <td>...</td>\n",
       "    </tr>\n",
       "    <tr>\n",
       "      <th>466280</th>\n",
       "      <td>8598660</td>\n",
       "      <td>1440975</td>\n",
       "      <td>18400</td>\n",
       "      <td>18400</td>\n",
       "      <td>18400.0</td>\n",
       "      <td>60 months</td>\n",
       "      <td>14.47</td>\n",
       "      <td>432.64</td>\n",
       "      <td>C</td>\n",
       "      <td>C2</td>\n",
       "      <td>...</td>\n",
       "      <td>NaN</td>\n",
       "      <td>NaN</td>\n",
       "      <td>NaN</td>\n",
       "      <td>NaN</td>\n",
       "      <td>NaN</td>\n",
       "      <td>NaN</td>\n",
       "      <td>29900.0</td>\n",
       "      <td>NaN</td>\n",
       "      <td>NaN</td>\n",
       "      <td>NaN</td>\n",
       "    </tr>\n",
       "    <tr>\n",
       "      <th>466281</th>\n",
       "      <td>9684700</td>\n",
       "      <td>11536848</td>\n",
       "      <td>22000</td>\n",
       "      <td>22000</td>\n",
       "      <td>22000.0</td>\n",
       "      <td>60 months</td>\n",
       "      <td>19.97</td>\n",
       "      <td>582.50</td>\n",
       "      <td>D</td>\n",
       "      <td>D5</td>\n",
       "      <td>...</td>\n",
       "      <td>NaN</td>\n",
       "      <td>NaN</td>\n",
       "      <td>NaN</td>\n",
       "      <td>NaN</td>\n",
       "      <td>NaN</td>\n",
       "      <td>NaN</td>\n",
       "      <td>39400.0</td>\n",
       "      <td>NaN</td>\n",
       "      <td>NaN</td>\n",
       "      <td>NaN</td>\n",
       "    </tr>\n",
       "    <tr>\n",
       "      <th>466282</th>\n",
       "      <td>9584776</td>\n",
       "      <td>11436914</td>\n",
       "      <td>20700</td>\n",
       "      <td>20700</td>\n",
       "      <td>20700.0</td>\n",
       "      <td>60 months</td>\n",
       "      <td>16.99</td>\n",
       "      <td>514.34</td>\n",
       "      <td>D</td>\n",
       "      <td>D1</td>\n",
       "      <td>...</td>\n",
       "      <td>NaN</td>\n",
       "      <td>NaN</td>\n",
       "      <td>NaN</td>\n",
       "      <td>NaN</td>\n",
       "      <td>NaN</td>\n",
       "      <td>NaN</td>\n",
       "      <td>13100.0</td>\n",
       "      <td>NaN</td>\n",
       "      <td>NaN</td>\n",
       "      <td>NaN</td>\n",
       "    </tr>\n",
       "    <tr>\n",
       "      <th>466283</th>\n",
       "      <td>9604874</td>\n",
       "      <td>11457002</td>\n",
       "      <td>2000</td>\n",
       "      <td>2000</td>\n",
       "      <td>2000.0</td>\n",
       "      <td>36 months</td>\n",
       "      <td>7.90</td>\n",
       "      <td>62.59</td>\n",
       "      <td>A</td>\n",
       "      <td>A4</td>\n",
       "      <td>...</td>\n",
       "      <td>NaN</td>\n",
       "      <td>NaN</td>\n",
       "      <td>NaN</td>\n",
       "      <td>NaN</td>\n",
       "      <td>NaN</td>\n",
       "      <td>NaN</td>\n",
       "      <td>53100.0</td>\n",
       "      <td>NaN</td>\n",
       "      <td>NaN</td>\n",
       "      <td>NaN</td>\n",
       "    </tr>\n",
       "    <tr>\n",
       "      <th>466284</th>\n",
       "      <td>9199665</td>\n",
       "      <td>11061576</td>\n",
       "      <td>10000</td>\n",
       "      <td>10000</td>\n",
       "      <td>9975.0</td>\n",
       "      <td>36 months</td>\n",
       "      <td>19.20</td>\n",
       "      <td>367.58</td>\n",
       "      <td>D</td>\n",
       "      <td>D3</td>\n",
       "      <td>...</td>\n",
       "      <td>NaN</td>\n",
       "      <td>NaN</td>\n",
       "      <td>NaN</td>\n",
       "      <td>NaN</td>\n",
       "      <td>NaN</td>\n",
       "      <td>NaN</td>\n",
       "      <td>16000.0</td>\n",
       "      <td>NaN</td>\n",
       "      <td>NaN</td>\n",
       "      <td>NaN</td>\n",
       "    </tr>\n",
       "  </tbody>\n",
       "</table>\n",
       "<p>466285 rows × 74 columns</p>\n",
       "</div>"
      ],
      "text/plain": [
       "             id  member_id  loan_amnt  funded_amnt  funded_amnt_inv  \\\n",
       "0       1077501    1296599       5000         5000           4975.0   \n",
       "1       1077430    1314167       2500         2500           2500.0   \n",
       "2       1077175    1313524       2400         2400           2400.0   \n",
       "3       1076863    1277178      10000        10000          10000.0   \n",
       "4       1075358    1311748       3000         3000           3000.0   \n",
       "...         ...        ...        ...          ...              ...   \n",
       "466280  8598660    1440975      18400        18400          18400.0   \n",
       "466281  9684700   11536848      22000        22000          22000.0   \n",
       "466282  9584776   11436914      20700        20700          20700.0   \n",
       "466283  9604874   11457002       2000         2000           2000.0   \n",
       "466284  9199665   11061576      10000        10000           9975.0   \n",
       "\n",
       "              term  int_rate  installment grade sub_grade  ... total_bal_il  \\\n",
       "0        36 months     10.65       162.87     B        B2  ...          NaN   \n",
       "1        60 months     15.27        59.83     C        C4  ...          NaN   \n",
       "2        36 months     15.96        84.33     C        C5  ...          NaN   \n",
       "3        36 months     13.49       339.31     C        C1  ...          NaN   \n",
       "4        60 months     12.69        67.79     B        B5  ...          NaN   \n",
       "...            ...       ...          ...   ...       ...  ...          ...   \n",
       "466280   60 months     14.47       432.64     C        C2  ...          NaN   \n",
       "466281   60 months     19.97       582.50     D        D5  ...          NaN   \n",
       "466282   60 months     16.99       514.34     D        D1  ...          NaN   \n",
       "466283   36 months      7.90        62.59     A        A4  ...          NaN   \n",
       "466284   36 months     19.20       367.58     D        D3  ...          NaN   \n",
       "\n",
       "       il_util open_rv_12m  open_rv_24m max_bal_bc all_util total_rev_hi_lim  \\\n",
       "0          NaN         NaN          NaN        NaN      NaN              NaN   \n",
       "1          NaN         NaN          NaN        NaN      NaN              NaN   \n",
       "2          NaN         NaN          NaN        NaN      NaN              NaN   \n",
       "3          NaN         NaN          NaN        NaN      NaN              NaN   \n",
       "4          NaN         NaN          NaN        NaN      NaN              NaN   \n",
       "...        ...         ...          ...        ...      ...              ...   \n",
       "466280     NaN         NaN          NaN        NaN      NaN          29900.0   \n",
       "466281     NaN         NaN          NaN        NaN      NaN          39400.0   \n",
       "466282     NaN         NaN          NaN        NaN      NaN          13100.0   \n",
       "466283     NaN         NaN          NaN        NaN      NaN          53100.0   \n",
       "466284     NaN         NaN          NaN        NaN      NaN          16000.0   \n",
       "\n",
       "       inq_fi total_cu_tl inq_last_12m  \n",
       "0         NaN         NaN          NaN  \n",
       "1         NaN         NaN          NaN  \n",
       "2         NaN         NaN          NaN  \n",
       "3         NaN         NaN          NaN  \n",
       "4         NaN         NaN          NaN  \n",
       "...       ...         ...          ...  \n",
       "466280    NaN         NaN          NaN  \n",
       "466281    NaN         NaN          NaN  \n",
       "466282    NaN         NaN          NaN  \n",
       "466283    NaN         NaN          NaN  \n",
       "466284    NaN         NaN          NaN  \n",
       "\n",
       "[466285 rows x 74 columns]"
      ]
     },
     "execution_count": 29,
     "metadata": {},
     "output_type": "execute_result"
    }
   ],
   "source": [
    "loan_data"
   ]
  },
  {
   "cell_type": "code",
   "execution_count": 30,
   "metadata": {},
   "outputs": [],
   "source": [
    "#pd.options.display.max_columns = None  #to display all columns"
   ]
  },
  {
   "cell_type": "code",
   "execution_count": 31,
   "metadata": {},
   "outputs": [
    {
     "data": {
      "text/plain": [
       "array(['id', 'member_id', 'loan_amnt', 'funded_amnt', 'funded_amnt_inv',\n",
       "       'term', 'int_rate', 'installment', 'grade', 'sub_grade',\n",
       "       'emp_title', 'emp_length', 'home_ownership', 'annual_inc',\n",
       "       'verification_status', 'issue_d', 'loan_status', 'pymnt_plan',\n",
       "       'url', 'desc', 'purpose', 'title', 'zip_code', 'addr_state', 'dti',\n",
       "       'delinq_2yrs', 'earliest_cr_line', 'inq_last_6mths',\n",
       "       'mths_since_last_delinq', 'mths_since_last_record', 'open_acc',\n",
       "       'pub_rec', 'revol_bal', 'revol_util', 'total_acc',\n",
       "       'initial_list_status', 'out_prncp', 'out_prncp_inv', 'total_pymnt',\n",
       "       'total_pymnt_inv', 'total_rec_prncp', 'total_rec_int',\n",
       "       'total_rec_late_fee', 'recoveries', 'collection_recovery_fee',\n",
       "       'last_pymnt_d', 'last_pymnt_amnt', 'next_pymnt_d',\n",
       "       'last_credit_pull_d', 'collections_12_mths_ex_med',\n",
       "       'mths_since_last_major_derog', 'policy_code', 'application_type',\n",
       "       'annual_inc_joint', 'dti_joint', 'verification_status_joint',\n",
       "       'acc_now_delinq', 'tot_coll_amt', 'tot_cur_bal', 'open_acc_6m',\n",
       "       'open_il_6m', 'open_il_12m', 'open_il_24m', 'mths_since_rcnt_il',\n",
       "       'total_bal_il', 'il_util', 'open_rv_12m', 'open_rv_24m',\n",
       "       'max_bal_bc', 'all_util', 'total_rev_hi_lim', 'inq_fi',\n",
       "       'total_cu_tl', 'inq_last_12m'], dtype=object)"
      ]
     },
     "execution_count": 31,
     "metadata": {},
     "output_type": "execute_result"
    }
   ],
   "source": [
    "loan_data.columns.values"
   ]
  },
  {
   "cell_type": "code",
   "execution_count": 32,
   "metadata": {},
   "outputs": [
    {
     "name": "stdout",
     "output_type": "stream",
     "text": [
      "<class 'pandas.core.frame.DataFrame'>\n",
      "RangeIndex: 466285 entries, 0 to 466284\n",
      "Data columns (total 74 columns):\n",
      " #   Column                       Non-Null Count   Dtype  \n",
      "---  ------                       --------------   -----  \n",
      " 0   id                           466285 non-null  int64  \n",
      " 1   member_id                    466285 non-null  int64  \n",
      " 2   loan_amnt                    466285 non-null  int64  \n",
      " 3   funded_amnt                  466285 non-null  int64  \n",
      " 4   funded_amnt_inv              466285 non-null  float64\n",
      " 5   term                         466285 non-null  object \n",
      " 6   int_rate                     466285 non-null  float64\n",
      " 7   installment                  466285 non-null  float64\n",
      " 8   grade                        466285 non-null  object \n",
      " 9   sub_grade                    466285 non-null  object \n",
      " 10  emp_title                    438697 non-null  object \n",
      " 11  emp_length                   445277 non-null  object \n",
      " 12  home_ownership               466285 non-null  object \n",
      " 13  annual_inc                   466281 non-null  float64\n",
      " 14  verification_status          466285 non-null  object \n",
      " 15  issue_d                      466285 non-null  object \n",
      " 16  loan_status                  466285 non-null  object \n",
      " 17  pymnt_plan                   466285 non-null  object \n",
      " 18  url                          466285 non-null  object \n",
      " 19  desc                         125983 non-null  object \n",
      " 20  purpose                      466285 non-null  object \n",
      " 21  title                        466265 non-null  object \n",
      " 22  zip_code                     466285 non-null  object \n",
      " 23  addr_state                   466285 non-null  object \n",
      " 24  dti                          466285 non-null  float64\n",
      " 25  delinq_2yrs                  466256 non-null  float64\n",
      " 26  earliest_cr_line             466256 non-null  object \n",
      " 27  inq_last_6mths               466256 non-null  float64\n",
      " 28  mths_since_last_delinq       215934 non-null  float64\n",
      " 29  mths_since_last_record       62638 non-null   float64\n",
      " 30  open_acc                     466256 non-null  float64\n",
      " 31  pub_rec                      466256 non-null  float64\n",
      " 32  revol_bal                    466285 non-null  int64  \n",
      " 33  revol_util                   465945 non-null  float64\n",
      " 34  total_acc                    466256 non-null  float64\n",
      " 35  initial_list_status          466285 non-null  object \n",
      " 36  out_prncp                    466285 non-null  float64\n",
      " 37  out_prncp_inv                466285 non-null  float64\n",
      " 38  total_pymnt                  466285 non-null  float64\n",
      " 39  total_pymnt_inv              466285 non-null  float64\n",
      " 40  total_rec_prncp              466285 non-null  float64\n",
      " 41  total_rec_int                466285 non-null  float64\n",
      " 42  total_rec_late_fee           466285 non-null  float64\n",
      " 43  recoveries                   466285 non-null  float64\n",
      " 44  collection_recovery_fee      466285 non-null  float64\n",
      " 45  last_pymnt_d                 465909 non-null  object \n",
      " 46  last_pymnt_amnt              466285 non-null  float64\n",
      " 47  next_pymnt_d                 239071 non-null  object \n",
      " 48  last_credit_pull_d           466243 non-null  object \n",
      " 49  collections_12_mths_ex_med   466140 non-null  float64\n",
      " 50  mths_since_last_major_derog  98974 non-null   float64\n",
      " 51  policy_code                  466285 non-null  int64  \n",
      " 52  application_type             466285 non-null  object \n",
      " 53  annual_inc_joint             0 non-null       float64\n",
      " 54  dti_joint                    0 non-null       float64\n",
      " 55  verification_status_joint    0 non-null       float64\n",
      " 56  acc_now_delinq               466256 non-null  float64\n",
      " 57  tot_coll_amt                 396009 non-null  float64\n",
      " 58  tot_cur_bal                  396009 non-null  float64\n",
      " 59  open_acc_6m                  0 non-null       float64\n",
      " 60  open_il_6m                   0 non-null       float64\n",
      " 61  open_il_12m                  0 non-null       float64\n",
      " 62  open_il_24m                  0 non-null       float64\n",
      " 63  mths_since_rcnt_il           0 non-null       float64\n",
      " 64  total_bal_il                 0 non-null       float64\n",
      " 65  il_util                      0 non-null       float64\n",
      " 66  open_rv_12m                  0 non-null       float64\n",
      " 67  open_rv_24m                  0 non-null       float64\n",
      " 68  max_bal_bc                   0 non-null       float64\n",
      " 69  all_util                     0 non-null       float64\n",
      " 70  total_rev_hi_lim             396009 non-null  float64\n",
      " 71  inq_fi                       0 non-null       float64\n",
      " 72  total_cu_tl                  0 non-null       float64\n",
      " 73  inq_last_12m                 0 non-null       float64\n",
      "dtypes: float64(46), int64(6), object(22)\n",
      "memory usage: 263.3+ MB\n"
     ]
    }
   ],
   "source": [
    "loan_data.info()"
   ]
  },
  {
   "cell_type": "markdown",
   "metadata": {},
   "source": [
    "# General Preprocessing"
   ]
  },
  {
   "cell_type": "markdown",
   "metadata": {},
   "source": [
    "## Preprocessing few continuous variables"
   ]
  },
  {
   "cell_type": "code",
   "execution_count": 33,
   "metadata": {},
   "outputs": [
    {
     "data": {
      "text/plain": [
       "array(['10+ years', '< 1 year', '1 year', '3 years', '8 years', '9 years',\n",
       "       '4 years', '5 years', '6 years', '2 years', '7 years', nan],\n",
       "      dtype=object)"
      ]
     },
     "execution_count": 33,
     "metadata": {},
     "output_type": "execute_result"
    }
   ],
   "source": [
    "loan_data['emp_length'].unique()"
   ]
  },
  {
   "cell_type": "code",
   "execution_count": 37,
   "metadata": {},
   "outputs": [],
   "source": [
    "loan_data['emp_length'].isnull().sum()\n",
    "loan_data['emp_length_int'] = loan_data['emp_length'].fillna(str(0))"
   ]
  },
  {
   "cell_type": "code",
   "execution_count": 40,
   "metadata": {},
   "outputs": [
    {
     "name": "stderr",
     "output_type": "stream",
     "text": [
      "/var/folders/7v/syzn01012_3fnr7bzfw4zzl40000gp/T/ipykernel_63169/2713484837.py:1: FutureWarning: The default value of regex will change from True to False in a future version.\n",
      "  loan_data['emp_length_int'] = loan_data['emp_length_int'].str.replace('\\+ years', '')\n"
     ]
    }
   ],
   "source": [
    "loan_data['emp_length_int'] = loan_data['emp_length_int'].str.replace('\\+ years', '')\n",
    "loan_data['emp_length_int'] = loan_data['emp_length_int'].str.replace('< 1 year', str(0))\n",
    "loan_data['emp_length_int'] = loan_data['emp_length_int'].str.replace(' years','')\n",
    "loan_data['emp_length_int'] = loan_data['emp_length_int'].str.replace(' year', '')"
   ]
  },
  {
   "cell_type": "code",
   "execution_count": 41,
   "metadata": {},
   "outputs": [],
   "source": [
    "loan_data['emp_length_int'] = pd.to_numeric(loan_data['emp_length_int'])"
   ]
  },
  {
   "cell_type": "code",
   "execution_count": 42,
   "metadata": {},
   "outputs": [
    {
     "data": {
      "text/plain": [
       "array([10,  0,  1,  3,  8,  9,  4,  5,  6,  2,  7])"
      ]
     },
     "execution_count": 42,
     "metadata": {},
     "output_type": "execute_result"
    }
   ],
   "source": [
    "loan_data['emp_length_int'].unique()"
   ]
  },
  {
   "cell_type": "code",
   "execution_count": 43,
   "metadata": {},
   "outputs": [
    {
     "data": {
      "text/plain": [
       "array([' 36 months', ' 60 months'], dtype=object)"
      ]
     },
     "execution_count": 43,
     "metadata": {},
     "output_type": "execute_result"
    }
   ],
   "source": [
    "loan_data['term'].unique()"
   ]
  },
  {
   "cell_type": "code",
   "execution_count": 45,
   "metadata": {},
   "outputs": [
    {
     "data": {
      "text/plain": [
       "array([36, 60])"
      ]
     },
     "execution_count": 45,
     "metadata": {},
     "output_type": "execute_result"
    }
   ],
   "source": [
    "loan_data['term_int'] = loan_data['term'].str.replace(' 36 months','36')\n",
    "loan_data['term_int'] = loan_data['term_int'].str.replace(' 60 months','60')\n",
    "loan_data['term_int'] = pd.to_numeric(loan_data['term_int'])\n",
    "loan_data['term_int'].unique()"
   ]
  },
  {
   "cell_type": "code",
   "execution_count": 46,
   "metadata": {},
   "outputs": [
    {
     "data": {
      "text/plain": [
       "0         Jan-85\n",
       "1         Apr-99\n",
       "2         Nov-01\n",
       "3         Feb-96\n",
       "4         Jan-96\n",
       "           ...  \n",
       "466280    Apr-03\n",
       "466281    Jun-97\n",
       "466282    Dec-01\n",
       "466283    Feb-03\n",
       "466284    Feb-00\n",
       "Name: earliest_cr_line, Length: 466285, dtype: object"
      ]
     },
     "execution_count": 46,
     "metadata": {},
     "output_type": "execute_result"
    }
   ],
   "source": [
    "# It's string and we've to turn it to date\n",
    "loan_data['earliest_cr_line'] "
   ]
  },
  {
   "cell_type": "code",
   "execution_count": 47,
   "metadata": {},
   "outputs": [],
   "source": [
    "loan_data['earliest_cr_line_date']  = pd.to_datetime(loan_data['earliest_cr_line'], format= '%b-%y' )\n",
    "# We've date passing error since date like '68' is converted as '2068'"
   ]
  },
  {
   "cell_type": "code",
   "execution_count": 48,
   "metadata": {},
   "outputs": [
    {
     "data": {
      "text/plain": [
       "0        12022 days\n",
       "1         6819 days\n",
       "2         5874 days\n",
       "3         7974 days\n",
       "4         8005 days\n",
       "            ...    \n",
       "466280    5358 days\n",
       "466281    7488 days\n",
       "466282    5844 days\n",
       "466283    5417 days\n",
       "466284    6513 days\n",
       "Name: earliest_cr_line_date, Length: 466285, dtype: timedelta64[ns]"
      ]
     },
     "execution_count": 48,
     "metadata": {},
     "output_type": "execute_result"
    }
   ],
   "source": [
    "# We've to find the time passed since the last credit was granted. We choosed Dec-17 since the data is old. Normally we choose today.\n",
    "pd.to_datetime('2017-12-01') - loan_data['earliest_cr_line_date']\n"
   ]
  },
  {
   "cell_type": "code",
   "execution_count": 50,
   "metadata": {},
   "outputs": [],
   "source": [
    "# Conventionnally, we prefered to work with month\n",
    "loan_data['mths_since_earliest_cr_line'] = round(pd.to_numeric((pd.to_datetime('2017-12-01') - loan_data['earliest_cr_line_date'])/ np.timedelta64(1, 'M')))"
   ]
  },
  {
   "cell_type": "code",
   "execution_count": 52,
   "metadata": {},
   "outputs": [
    {
     "data": {
      "text/plain": [
       "count    466256.000000\n",
       "mean        239.482430\n",
       "std          93.974829\n",
       "min        -612.000000\n",
       "25%         183.000000\n",
       "50%         225.000000\n",
       "75%         285.000000\n",
       "max         587.000000\n",
       "Name: mths_since_earliest_cr_line, dtype: float64"
      ]
     },
     "execution_count": 52,
     "metadata": {},
     "output_type": "execute_result"
    }
   ],
   "source": [
    "loan_data['mths_since_earliest_cr_line'].describe()"
   ]
  },
  {
   "cell_type": "code",
   "execution_count": 53,
   "metadata": {},
   "outputs": [
    {
     "data": {
      "text/html": [
       "<div>\n",
       "<style scoped>\n",
       "    .dataframe tbody tr th:only-of-type {\n",
       "        vertical-align: middle;\n",
       "    }\n",
       "\n",
       "    .dataframe tbody tr th {\n",
       "        vertical-align: top;\n",
       "    }\n",
       "\n",
       "    .dataframe thead th {\n",
       "        text-align: right;\n",
       "    }\n",
       "</style>\n",
       "<table border=\"1\" class=\"dataframe\">\n",
       "  <thead>\n",
       "    <tr style=\"text-align: right;\">\n",
       "      <th></th>\n",
       "      <th>earliest_cr_line</th>\n",
       "      <th>earliest_cr_line_date</th>\n",
       "      <th>mths_since_earliest_cr_line</th>\n",
       "    </tr>\n",
       "  </thead>\n",
       "  <tbody>\n",
       "    <tr>\n",
       "      <th>1580</th>\n",
       "      <td>Sep-62</td>\n",
       "      <td>2062-09-01</td>\n",
       "      <td>-537.0</td>\n",
       "    </tr>\n",
       "    <tr>\n",
       "      <th>1770</th>\n",
       "      <td>Sep-68</td>\n",
       "      <td>2068-09-01</td>\n",
       "      <td>-609.0</td>\n",
       "    </tr>\n",
       "    <tr>\n",
       "      <th>2799</th>\n",
       "      <td>Sep-64</td>\n",
       "      <td>2064-09-01</td>\n",
       "      <td>-561.0</td>\n",
       "    </tr>\n",
       "    <tr>\n",
       "      <th>3282</th>\n",
       "      <td>Sep-67</td>\n",
       "      <td>2067-09-01</td>\n",
       "      <td>-597.0</td>\n",
       "    </tr>\n",
       "    <tr>\n",
       "      <th>3359</th>\n",
       "      <td>Feb-65</td>\n",
       "      <td>2065-02-01</td>\n",
       "      <td>-566.0</td>\n",
       "    </tr>\n",
       "    <tr>\n",
       "      <th>...</th>\n",
       "      <td>...</td>\n",
       "      <td>...</td>\n",
       "      <td>...</td>\n",
       "    </tr>\n",
       "    <tr>\n",
       "      <th>464003</th>\n",
       "      <td>Jan-68</td>\n",
       "      <td>2068-01-01</td>\n",
       "      <td>-601.0</td>\n",
       "    </tr>\n",
       "    <tr>\n",
       "      <th>464260</th>\n",
       "      <td>Jul-66</td>\n",
       "      <td>2066-07-01</td>\n",
       "      <td>-583.0</td>\n",
       "    </tr>\n",
       "    <tr>\n",
       "      <th>465100</th>\n",
       "      <td>Oct-67</td>\n",
       "      <td>2067-10-01</td>\n",
       "      <td>-598.0</td>\n",
       "    </tr>\n",
       "    <tr>\n",
       "      <th>465500</th>\n",
       "      <td>Sep-67</td>\n",
       "      <td>2067-09-01</td>\n",
       "      <td>-597.0</td>\n",
       "    </tr>\n",
       "    <tr>\n",
       "      <th>465655</th>\n",
       "      <td>Jan-56</td>\n",
       "      <td>2056-01-01</td>\n",
       "      <td>-457.0</td>\n",
       "    </tr>\n",
       "  </tbody>\n",
       "</table>\n",
       "<p>1169 rows × 3 columns</p>\n",
       "</div>"
      ],
      "text/plain": [
       "       earliest_cr_line earliest_cr_line_date  mths_since_earliest_cr_line\n",
       "1580             Sep-62            2062-09-01                       -537.0\n",
       "1770             Sep-68            2068-09-01                       -609.0\n",
       "2799             Sep-64            2064-09-01                       -561.0\n",
       "3282             Sep-67            2067-09-01                       -597.0\n",
       "3359             Feb-65            2065-02-01                       -566.0\n",
       "...                 ...                   ...                          ...\n",
       "464003           Jan-68            2068-01-01                       -601.0\n",
       "464260           Jul-66            2066-07-01                       -583.0\n",
       "465100           Oct-67            2067-10-01                       -598.0\n",
       "465500           Sep-67            2067-09-01                       -597.0\n",
       "465655           Jan-56            2056-01-01                       -457.0\n",
       "\n",
       "[1169 rows x 3 columns]"
      ]
     },
     "execution_count": 53,
     "metadata": {},
     "output_type": "execute_result"
    }
   ],
   "source": [
    "loan_data.loc[:, ['earliest_cr_line', 'earliest_cr_line_date', 'mths_since_earliest_cr_line']][loan_data['mths_since_earliest_cr_line'] < 0]"
   ]
  },
  {
   "cell_type": "code",
   "execution_count": 54,
   "metadata": {},
   "outputs": [
    {
     "name": "stderr",
     "output_type": "stream",
     "text": [
      "/var/folders/7v/syzn01012_3fnr7bzfw4zzl40000gp/T/ipykernel_63169/1794863387.py:1: SettingWithCopyWarning: \n",
      "A value is trying to be set on a copy of a slice from a DataFrame\n",
      "\n",
      "See the caveats in the documentation: https://pandas.pydata.org/pandas-docs/stable/user_guide/indexing.html#returning-a-view-versus-a-copy\n",
      "  loan_data['mths_since_earliest_cr_line'][loan_data['mths_since_earliest_cr_line'] < 0] = loan_data['mths_since_earliest_cr_line'].max()\n"
     ]
    }
   ],
   "source": [
    "loan_data['mths_since_earliest_cr_line'][loan_data['mths_since_earliest_cr_line'] < 0] = loan_data['mths_since_earliest_cr_line'].max() "
   ]
  },
  {
   "cell_type": "code",
   "execution_count": 55,
   "metadata": {},
   "outputs": [
    {
     "data": {
      "text/plain": [
       "73.0"
      ]
     },
     "execution_count": 55,
     "metadata": {},
     "output_type": "execute_result"
    }
   ],
   "source": [
    "min(loan_data['mths_since_earliest_cr_line'])"
   ]
  },
  {
   "cell_type": "code",
   "execution_count": 56,
   "metadata": {},
   "outputs": [
    {
     "data": {
      "text/plain": [
       "count    466285.000000\n",
       "mean         42.605334\n",
       "std          10.719040\n",
       "min          36.000000\n",
       "25%          36.000000\n",
       "50%          36.000000\n",
       "75%          60.000000\n",
       "max          60.000000\n",
       "Name: term_int, dtype: float64"
      ]
     },
     "execution_count": 56,
     "metadata": {},
     "output_type": "execute_result"
    }
   ],
   "source": [
    "loan_data['term_int'].describe()"
   ]
  },
  {
   "cell_type": "code",
   "execution_count": 57,
   "metadata": {},
   "outputs": [
    {
     "data": {
      "text/plain": [
       "0         Dec-11\n",
       "1         Dec-11\n",
       "2         Dec-11\n",
       "3         Dec-11\n",
       "4         Dec-11\n",
       "           ...  \n",
       "466280    Jan-14\n",
       "466281    Jan-14\n",
       "466282    Jan-14\n",
       "466283    Jan-14\n",
       "466284    Jan-14\n",
       "Name: issue_d, Length: 466285, dtype: object"
      ]
     },
     "execution_count": 57,
     "metadata": {},
     "output_type": "execute_result"
    }
   ],
   "source": [
    "loan_data['issue_d']"
   ]
  },
  {
   "cell_type": "code",
   "execution_count": 58,
   "metadata": {},
   "outputs": [],
   "source": [
    "loan_data['issue_date']  = pd.to_datetime(loan_data['issue_d'], format= '%b-%y' )"
   ]
  },
  {
   "cell_type": "code",
   "execution_count": 82,
   "metadata": {},
   "outputs": [
    {
     "data": {
      "text/plain": [
       "count    466285.000000\n",
       "mean         51.255187\n",
       "std          14.340154\n",
       "min          36.000000\n",
       "25%          41.000000\n",
       "50%          47.000000\n",
       "75%          57.000000\n",
       "max         126.000000\n",
       "Name: mths_since_issue_d, dtype: float64"
      ]
     },
     "execution_count": 82,
     "metadata": {},
     "output_type": "execute_result"
    }
   ],
   "source": [
    "loan_data['mths_since_issue_d'] = round(pd.to_numeric((pd.to_datetime('2017-12-01') - loan_data['issue_date'])/ np.timedelta64(1, 'M')))\n",
    "\n",
    "# We calculate the difference between two dates in months, turn it to numeric datatype and round it.\n",
    "# We save the result in a new variable.\n",
    "loan_data['mths_since_issue_d'].describe()\n",
    "# Shows some descriptive statisics for the values of a column."
   ]
  },
  {
   "cell_type": "code",
   "execution_count": 59,
   "metadata": {},
   "outputs": [
    {
     "name": "stderr",
     "output_type": "stream",
     "text": [
      "/var/folders/7v/syzn01012_3fnr7bzfw4zzl40000gp/T/ipykernel_63169/2109154134.py:1: FutureWarning: Treating datetime data as categorical rather than numeric in `.describe` is deprecated and will be removed in a future version of pandas. Specify `datetime_is_numeric=True` to silence this warning and adopt the future behavior now.\n",
      "  loan_data['issue_date'].describe()\n"
     ]
    },
    {
     "data": {
      "text/plain": [
       "count                  466285\n",
       "unique                     91\n",
       "top       2014-10-01 00:00:00\n",
       "freq                    38782\n",
       "first     2007-06-01 00:00:00\n",
       "last      2014-12-01 00:00:00\n",
       "Name: issue_date, dtype: object"
      ]
     },
     "execution_count": 59,
     "metadata": {},
     "output_type": "execute_result"
    }
   ],
   "source": [
    "loan_data['issue_date'].describe()"
   ]
  },
  {
   "cell_type": "markdown",
   "metadata": {},
   "source": [
    "## Preprocessing few discrete variables"
   ]
  },
  {
   "cell_type": "code",
   "execution_count": 83,
   "metadata": {},
   "outputs": [
    {
     "name": "stdout",
     "output_type": "stream",
     "text": [
      "<class 'pandas.core.frame.DataFrame'>\n",
      "RangeIndex: 466285 entries, 0 to 466284\n",
      "Columns: 206 entries, id to mths_since_issue_d\n",
      "dtypes: datetime64[ns](2), float64(48), int64(8), object(22), uint8(126)\n",
      "memory usage: 340.6+ MB\n"
     ]
    }
   ],
   "source": [
    "loan_data.info()"
   ]
  },
  {
   "cell_type": "code",
   "execution_count": 62,
   "metadata": {},
   "outputs": [
    {
     "data": {
      "text/html": [
       "<div>\n",
       "<style scoped>\n",
       "    .dataframe tbody tr th:only-of-type {\n",
       "        vertical-align: middle;\n",
       "    }\n",
       "\n",
       "    .dataframe tbody tr th {\n",
       "        vertical-align: top;\n",
       "    }\n",
       "\n",
       "    .dataframe thead th {\n",
       "        text-align: right;\n",
       "    }\n",
       "</style>\n",
       "<table border=\"1\" class=\"dataframe\">\n",
       "  <thead>\n",
       "    <tr style=\"text-align: right;\">\n",
       "      <th></th>\n",
       "      <th>grade:A</th>\n",
       "      <th>grade:B</th>\n",
       "      <th>grade:C</th>\n",
       "      <th>grade:D</th>\n",
       "      <th>grade:E</th>\n",
       "      <th>grade:F</th>\n",
       "      <th>grade:G</th>\n",
       "    </tr>\n",
       "  </thead>\n",
       "  <tbody>\n",
       "    <tr>\n",
       "      <th>0</th>\n",
       "      <td>0</td>\n",
       "      <td>1</td>\n",
       "      <td>0</td>\n",
       "      <td>0</td>\n",
       "      <td>0</td>\n",
       "      <td>0</td>\n",
       "      <td>0</td>\n",
       "    </tr>\n",
       "    <tr>\n",
       "      <th>1</th>\n",
       "      <td>0</td>\n",
       "      <td>0</td>\n",
       "      <td>1</td>\n",
       "      <td>0</td>\n",
       "      <td>0</td>\n",
       "      <td>0</td>\n",
       "      <td>0</td>\n",
       "    </tr>\n",
       "    <tr>\n",
       "      <th>2</th>\n",
       "      <td>0</td>\n",
       "      <td>0</td>\n",
       "      <td>1</td>\n",
       "      <td>0</td>\n",
       "      <td>0</td>\n",
       "      <td>0</td>\n",
       "      <td>0</td>\n",
       "    </tr>\n",
       "    <tr>\n",
       "      <th>3</th>\n",
       "      <td>0</td>\n",
       "      <td>0</td>\n",
       "      <td>1</td>\n",
       "      <td>0</td>\n",
       "      <td>0</td>\n",
       "      <td>0</td>\n",
       "      <td>0</td>\n",
       "    </tr>\n",
       "    <tr>\n",
       "      <th>4</th>\n",
       "      <td>0</td>\n",
       "      <td>1</td>\n",
       "      <td>0</td>\n",
       "      <td>0</td>\n",
       "      <td>0</td>\n",
       "      <td>0</td>\n",
       "      <td>0</td>\n",
       "    </tr>\n",
       "    <tr>\n",
       "      <th>...</th>\n",
       "      <td>...</td>\n",
       "      <td>...</td>\n",
       "      <td>...</td>\n",
       "      <td>...</td>\n",
       "      <td>...</td>\n",
       "      <td>...</td>\n",
       "      <td>...</td>\n",
       "    </tr>\n",
       "    <tr>\n",
       "      <th>466280</th>\n",
       "      <td>0</td>\n",
       "      <td>0</td>\n",
       "      <td>1</td>\n",
       "      <td>0</td>\n",
       "      <td>0</td>\n",
       "      <td>0</td>\n",
       "      <td>0</td>\n",
       "    </tr>\n",
       "    <tr>\n",
       "      <th>466281</th>\n",
       "      <td>0</td>\n",
       "      <td>0</td>\n",
       "      <td>0</td>\n",
       "      <td>1</td>\n",
       "      <td>0</td>\n",
       "      <td>0</td>\n",
       "      <td>0</td>\n",
       "    </tr>\n",
       "    <tr>\n",
       "      <th>466282</th>\n",
       "      <td>0</td>\n",
       "      <td>0</td>\n",
       "      <td>0</td>\n",
       "      <td>1</td>\n",
       "      <td>0</td>\n",
       "      <td>0</td>\n",
       "      <td>0</td>\n",
       "    </tr>\n",
       "    <tr>\n",
       "      <th>466283</th>\n",
       "      <td>1</td>\n",
       "      <td>0</td>\n",
       "      <td>0</td>\n",
       "      <td>0</td>\n",
       "      <td>0</td>\n",
       "      <td>0</td>\n",
       "      <td>0</td>\n",
       "    </tr>\n",
       "    <tr>\n",
       "      <th>466284</th>\n",
       "      <td>0</td>\n",
       "      <td>0</td>\n",
       "      <td>0</td>\n",
       "      <td>1</td>\n",
       "      <td>0</td>\n",
       "      <td>0</td>\n",
       "      <td>0</td>\n",
       "    </tr>\n",
       "  </tbody>\n",
       "</table>\n",
       "<p>466285 rows × 7 columns</p>\n",
       "</div>"
      ],
      "text/plain": [
       "        grade:A  grade:B  grade:C  grade:D  grade:E  grade:F  grade:G\n",
       "0             0        1        0        0        0        0        0\n",
       "1             0        0        1        0        0        0        0\n",
       "2             0        0        1        0        0        0        0\n",
       "3             0        0        1        0        0        0        0\n",
       "4             0        1        0        0        0        0        0\n",
       "...         ...      ...      ...      ...      ...      ...      ...\n",
       "466280        0        0        1        0        0        0        0\n",
       "466281        0        0        0        1        0        0        0\n",
       "466282        0        0        0        1        0        0        0\n",
       "466283        1        0        0        0        0        0        0\n",
       "466284        0        0        0        1        0        0        0\n",
       "\n",
       "[466285 rows x 7 columns]"
      ]
     },
     "execution_count": 62,
     "metadata": {},
     "output_type": "execute_result"
    }
   ],
   "source": [
    "pd.get_dummies(loan_data['grade'], prefix ='grade', prefix_sep = ':')"
   ]
  },
  {
   "cell_type": "code",
   "execution_count": 66,
   "metadata": {},
   "outputs": [],
   "source": [
    "loan_data_dummies = [pd.get_dummies(loan_data['grade'], prefix ='grade', prefix_sep = ':'),\n",
    "                     pd.get_dummies(loan_data['sub_grade'], prefix ='sub_grade', prefix_sep = ':'),\n",
    "                     pd.get_dummies(loan_data['home_ownership'], prefix ='home_ownership', prefix_sep = ':'),\n",
    "                     pd.get_dummies(loan_data['verification_status'], prefix ='verification_status', prefix_sep = ':'),\n",
    "                     pd.get_dummies(loan_data['loan_status'], prefix ='loan_status', prefix_sep = ':'),\n",
    "                     pd.get_dummies(loan_data['purpose'], prefix ='purpose', prefix_sep = ':'),\n",
    "                     pd.get_dummies(loan_data['addr_state'], prefix ='addr_state', prefix_sep = ':'),\n",
    "                     pd.get_dummies(loan_data['initial_list_status'], prefix ='initial_list_status', prefix_sep = ':')]"
   ]
  },
  {
   "cell_type": "code",
   "execution_count": null,
   "metadata": {},
   "outputs": [],
   "source": [
    "loan_data_dummies"
   ]
  },
  {
   "cell_type": "code",
   "execution_count": 68,
   "metadata": {},
   "outputs": [],
   "source": [
    "loan_data_dummies = pd.concat(loan_data_dummies, axis = 1)"
   ]
  },
  {
   "cell_type": "code",
   "execution_count": 70,
   "metadata": {},
   "outputs": [],
   "source": [
    "loan_data = pd.concat([loan_data, loan_data_dummies], axis = 1)"
   ]
  },
  {
   "cell_type": "code",
   "execution_count": 71,
   "metadata": {},
   "outputs": [
    {
     "data": {
      "text/plain": [
       "array(['id', 'member_id', 'loan_amnt', 'funded_amnt', 'funded_amnt_inv',\n",
       "       'term', 'int_rate', 'installment', 'grade', 'sub_grade',\n",
       "       'emp_title', 'emp_length', 'home_ownership', 'annual_inc',\n",
       "       'verification_status', 'issue_d', 'loan_status', 'pymnt_plan',\n",
       "       'url', 'desc', 'purpose', 'title', 'zip_code', 'addr_state', 'dti',\n",
       "       'delinq_2yrs', 'earliest_cr_line', 'inq_last_6mths',\n",
       "       'mths_since_last_delinq', 'mths_since_last_record', 'open_acc',\n",
       "       'pub_rec', 'revol_bal', 'revol_util', 'total_acc',\n",
       "       'initial_list_status', 'out_prncp', 'out_prncp_inv', 'total_pymnt',\n",
       "       'total_pymnt_inv', 'total_rec_prncp', 'total_rec_int',\n",
       "       'total_rec_late_fee', 'recoveries', 'collection_recovery_fee',\n",
       "       'last_pymnt_d', 'last_pymnt_amnt', 'next_pymnt_d',\n",
       "       'last_credit_pull_d', 'collections_12_mths_ex_med',\n",
       "       'mths_since_last_major_derog', 'policy_code', 'application_type',\n",
       "       'annual_inc_joint', 'dti_joint', 'verification_status_joint',\n",
       "       'acc_now_delinq', 'tot_coll_amt', 'tot_cur_bal', 'open_acc_6m',\n",
       "       'open_il_6m', 'open_il_12m', 'open_il_24m', 'mths_since_rcnt_il',\n",
       "       'total_bal_il', 'il_util', 'open_rv_12m', 'open_rv_24m',\n",
       "       'max_bal_bc', 'all_util', 'total_rev_hi_lim', 'inq_fi',\n",
       "       'total_cu_tl', 'inq_last_12m', 'emp_length_int', 'term_int',\n",
       "       'earliest_cr_line_date', 'mths_since_earliest_cr_line',\n",
       "       'issue_date', 'grade:A', 'grade:B', 'grade:C', 'grade:D',\n",
       "       'grade:E', 'grade:F', 'grade:G', 'sub_grade:A1', 'sub_grade:A2',\n",
       "       'sub_grade:A3', 'sub_grade:A4', 'sub_grade:A5', 'sub_grade:B1',\n",
       "       'sub_grade:B2', 'sub_grade:B3', 'sub_grade:B4', 'sub_grade:B5',\n",
       "       'sub_grade:C1', 'sub_grade:C2', 'sub_grade:C3', 'sub_grade:C4',\n",
       "       'sub_grade:C5', 'sub_grade:D1', 'sub_grade:D2', 'sub_grade:D3',\n",
       "       'sub_grade:D4', 'sub_grade:D5', 'sub_grade:E1', 'sub_grade:E2',\n",
       "       'sub_grade:E3', 'sub_grade:E4', 'sub_grade:E5', 'sub_grade:F1',\n",
       "       'sub_grade:F2', 'sub_grade:F3', 'sub_grade:F4', 'sub_grade:F5',\n",
       "       'sub_grade:G1', 'sub_grade:G2', 'sub_grade:G3', 'sub_grade:G4',\n",
       "       'sub_grade:G5', 'home_ownership:ANY', 'home_ownership:MORTGAGE',\n",
       "       'home_ownership:NONE', 'home_ownership:OTHER',\n",
       "       'home_ownership:OWN', 'home_ownership:RENT',\n",
       "       'verification_status:Not Verified',\n",
       "       'verification_status:Source Verified',\n",
       "       'verification_status:Verified', 'loan_status:Charged Off',\n",
       "       'loan_status:Current', 'loan_status:Default',\n",
       "       'loan_status:Does not meet the credit policy. Status:Charged Off',\n",
       "       'loan_status:Does not meet the credit policy. Status:Fully Paid',\n",
       "       'loan_status:Fully Paid', 'loan_status:In Grace Period',\n",
       "       'loan_status:Late (16-30 days)', 'loan_status:Late (31-120 days)',\n",
       "       'purpose:car', 'purpose:credit_card', 'purpose:debt_consolidation',\n",
       "       'purpose:educational', 'purpose:home_improvement', 'purpose:house',\n",
       "       'purpose:major_purchase', 'purpose:medical', 'purpose:moving',\n",
       "       'purpose:other', 'purpose:renewable_energy',\n",
       "       'purpose:small_business', 'purpose:vacation', 'purpose:wedding',\n",
       "       'addr_state:AK', 'addr_state:AL', 'addr_state:AR', 'addr_state:AZ',\n",
       "       'addr_state:CA', 'addr_state:CO', 'addr_state:CT', 'addr_state:DC',\n",
       "       'addr_state:DE', 'addr_state:FL', 'addr_state:GA', 'addr_state:HI',\n",
       "       'addr_state:IA', 'addr_state:ID', 'addr_state:IL', 'addr_state:IN',\n",
       "       'addr_state:KS', 'addr_state:KY', 'addr_state:LA', 'addr_state:MA',\n",
       "       'addr_state:MD', 'addr_state:ME', 'addr_state:MI', 'addr_state:MN',\n",
       "       'addr_state:MO', 'addr_state:MS', 'addr_state:MT', 'addr_state:NC',\n",
       "       'addr_state:NE', 'addr_state:NH', 'addr_state:NJ', 'addr_state:NM',\n",
       "       'addr_state:NV', 'addr_state:NY', 'addr_state:OH', 'addr_state:OK',\n",
       "       'addr_state:OR', 'addr_state:PA', 'addr_state:RI', 'addr_state:SC',\n",
       "       'addr_state:SD', 'addr_state:TN', 'addr_state:TX', 'addr_state:UT',\n",
       "       'addr_state:VA', 'addr_state:VT', 'addr_state:WA', 'addr_state:WI',\n",
       "       'addr_state:WV', 'addr_state:WY', 'initial_list_status:f',\n",
       "       'initial_list_status:w'], dtype=object)"
      ]
     },
     "execution_count": 71,
     "metadata": {},
     "output_type": "execute_result"
    }
   ],
   "source": [
    "loan_data.columns.values"
   ]
  },
  {
   "cell_type": "markdown",
   "metadata": {},
   "source": [
    "## Check for missing values and clean"
   ]
  },
  {
   "cell_type": "code",
   "execution_count": 73,
   "metadata": {},
   "outputs": [],
   "source": [
    "pd.options.display.max_columns = None"
   ]
  },
  {
   "cell_type": "code",
   "execution_count": 77,
   "metadata": {},
   "outputs": [],
   "source": [
    "pd.options.display.max_rows = None"
   ]
  },
  {
   "cell_type": "code",
   "execution_count": 78,
   "metadata": {},
   "outputs": [
    {
     "data": {
      "text/plain": [
       "id                                                                      0\n",
       "member_id                                                               0\n",
       "loan_amnt                                                               0\n",
       "funded_amnt                                                             0\n",
       "funded_amnt_inv                                                         0\n",
       "term                                                                    0\n",
       "int_rate                                                                0\n",
       "installment                                                             0\n",
       "grade                                                                   0\n",
       "sub_grade                                                               0\n",
       "emp_title                                                           27588\n",
       "emp_length                                                          21008\n",
       "home_ownership                                                          0\n",
       "annual_inc                                                              4\n",
       "verification_status                                                     0\n",
       "issue_d                                                                 0\n",
       "loan_status                                                             0\n",
       "pymnt_plan                                                              0\n",
       "url                                                                     0\n",
       "desc                                                               340302\n",
       "purpose                                                                 0\n",
       "title                                                                  20\n",
       "zip_code                                                                0\n",
       "addr_state                                                              0\n",
       "dti                                                                     0\n",
       "delinq_2yrs                                                            29\n",
       "earliest_cr_line                                                       29\n",
       "inq_last_6mths                                                         29\n",
       "mths_since_last_delinq                                             250351\n",
       "mths_since_last_record                                             403647\n",
       "open_acc                                                               29\n",
       "pub_rec                                                                29\n",
       "revol_bal                                                               0\n",
       "revol_util                                                            340\n",
       "total_acc                                                              29\n",
       "initial_list_status                                                     0\n",
       "out_prncp                                                               0\n",
       "out_prncp_inv                                                           0\n",
       "total_pymnt                                                             0\n",
       "total_pymnt_inv                                                         0\n",
       "total_rec_prncp                                                         0\n",
       "total_rec_int                                                           0\n",
       "total_rec_late_fee                                                      0\n",
       "recoveries                                                              0\n",
       "collection_recovery_fee                                                 0\n",
       "last_pymnt_d                                                          376\n",
       "last_pymnt_amnt                                                         0\n",
       "next_pymnt_d                                                       227214\n",
       "last_credit_pull_d                                                     42\n",
       "collections_12_mths_ex_med                                            145\n",
       "mths_since_last_major_derog                                        367311\n",
       "policy_code                                                             0\n",
       "application_type                                                        0\n",
       "annual_inc_joint                                                   466285\n",
       "dti_joint                                                          466285\n",
       "verification_status_joint                                          466285\n",
       "acc_now_delinq                                                         29\n",
       "tot_coll_amt                                                        70276\n",
       "tot_cur_bal                                                         70276\n",
       "open_acc_6m                                                        466285\n",
       "open_il_6m                                                         466285\n",
       "open_il_12m                                                        466285\n",
       "open_il_24m                                                        466285\n",
       "mths_since_rcnt_il                                                 466285\n",
       "total_bal_il                                                       466285\n",
       "il_util                                                            466285\n",
       "open_rv_12m                                                        466285\n",
       "open_rv_24m                                                        466285\n",
       "max_bal_bc                                                         466285\n",
       "all_util                                                           466285\n",
       "total_rev_hi_lim                                                    70276\n",
       "inq_fi                                                             466285\n",
       "total_cu_tl                                                        466285\n",
       "inq_last_12m                                                       466285\n",
       "emp_length_int                                                          0\n",
       "term_int                                                                0\n",
       "earliest_cr_line_date                                                  29\n",
       "mths_since_earliest_cr_line                                            29\n",
       "issue_date                                                              0\n",
       "grade:A                                                                 0\n",
       "grade:B                                                                 0\n",
       "grade:C                                                                 0\n",
       "grade:D                                                                 0\n",
       "grade:E                                                                 0\n",
       "grade:F                                                                 0\n",
       "grade:G                                                                 0\n",
       "sub_grade:A1                                                            0\n",
       "sub_grade:A2                                                            0\n",
       "sub_grade:A3                                                            0\n",
       "sub_grade:A4                                                            0\n",
       "sub_grade:A5                                                            0\n",
       "sub_grade:B1                                                            0\n",
       "sub_grade:B2                                                            0\n",
       "sub_grade:B3                                                            0\n",
       "sub_grade:B4                                                            0\n",
       "sub_grade:B5                                                            0\n",
       "sub_grade:C1                                                            0\n",
       "sub_grade:C2                                                            0\n",
       "sub_grade:C3                                                            0\n",
       "sub_grade:C4                                                            0\n",
       "sub_grade:C5                                                            0\n",
       "sub_grade:D1                                                            0\n",
       "sub_grade:D2                                                            0\n",
       "sub_grade:D3                                                            0\n",
       "sub_grade:D4                                                            0\n",
       "sub_grade:D5                                                            0\n",
       "sub_grade:E1                                                            0\n",
       "sub_grade:E2                                                            0\n",
       "sub_grade:E3                                                            0\n",
       "sub_grade:E4                                                            0\n",
       "sub_grade:E5                                                            0\n",
       "sub_grade:F1                                                            0\n",
       "sub_grade:F2                                                            0\n",
       "sub_grade:F3                                                            0\n",
       "sub_grade:F4                                                            0\n",
       "sub_grade:F5                                                            0\n",
       "sub_grade:G1                                                            0\n",
       "sub_grade:G2                                                            0\n",
       "sub_grade:G3                                                            0\n",
       "sub_grade:G4                                                            0\n",
       "sub_grade:G5                                                            0\n",
       "home_ownership:ANY                                                      0\n",
       "home_ownership:MORTGAGE                                                 0\n",
       "home_ownership:NONE                                                     0\n",
       "home_ownership:OTHER                                                    0\n",
       "home_ownership:OWN                                                      0\n",
       "home_ownership:RENT                                                     0\n",
       "verification_status:Not Verified                                        0\n",
       "verification_status:Source Verified                                     0\n",
       "verification_status:Verified                                            0\n",
       "loan_status:Charged Off                                                 0\n",
       "loan_status:Current                                                     0\n",
       "loan_status:Default                                                     0\n",
       "loan_status:Does not meet the credit policy. Status:Charged Off         0\n",
       "loan_status:Does not meet the credit policy. Status:Fully Paid          0\n",
       "loan_status:Fully Paid                                                  0\n",
       "loan_status:In Grace Period                                             0\n",
       "loan_status:Late (16-30 days)                                           0\n",
       "loan_status:Late (31-120 days)                                          0\n",
       "purpose:car                                                             0\n",
       "purpose:credit_card                                                     0\n",
       "purpose:debt_consolidation                                              0\n",
       "purpose:educational                                                     0\n",
       "purpose:home_improvement                                                0\n",
       "purpose:house                                                           0\n",
       "purpose:major_purchase                                                  0\n",
       "purpose:medical                                                         0\n",
       "purpose:moving                                                          0\n",
       "purpose:other                                                           0\n",
       "purpose:renewable_energy                                                0\n",
       "purpose:small_business                                                  0\n",
       "purpose:vacation                                                        0\n",
       "purpose:wedding                                                         0\n",
       "addr_state:AK                                                           0\n",
       "addr_state:AL                                                           0\n",
       "addr_state:AR                                                           0\n",
       "addr_state:AZ                                                           0\n",
       "addr_state:CA                                                           0\n",
       "addr_state:CO                                                           0\n",
       "addr_state:CT                                                           0\n",
       "addr_state:DC                                                           0\n",
       "addr_state:DE                                                           0\n",
       "addr_state:FL                                                           0\n",
       "addr_state:GA                                                           0\n",
       "addr_state:HI                                                           0\n",
       "addr_state:IA                                                           0\n",
       "addr_state:ID                                                           0\n",
       "addr_state:IL                                                           0\n",
       "addr_state:IN                                                           0\n",
       "addr_state:KS                                                           0\n",
       "addr_state:KY                                                           0\n",
       "addr_state:LA                                                           0\n",
       "addr_state:MA                                                           0\n",
       "addr_state:MD                                                           0\n",
       "addr_state:ME                                                           0\n",
       "addr_state:MI                                                           0\n",
       "addr_state:MN                                                           0\n",
       "addr_state:MO                                                           0\n",
       "addr_state:MS                                                           0\n",
       "addr_state:MT                                                           0\n",
       "addr_state:NC                                                           0\n",
       "addr_state:NE                                                           0\n",
       "addr_state:NH                                                           0\n",
       "addr_state:NJ                                                           0\n",
       "addr_state:NM                                                           0\n",
       "addr_state:NV                                                           0\n",
       "addr_state:NY                                                           0\n",
       "addr_state:OH                                                           0\n",
       "addr_state:OK                                                           0\n",
       "addr_state:OR                                                           0\n",
       "addr_state:PA                                                           0\n",
       "addr_state:RI                                                           0\n",
       "addr_state:SC                                                           0\n",
       "addr_state:SD                                                           0\n",
       "addr_state:TN                                                           0\n",
       "addr_state:TX                                                           0\n",
       "addr_state:UT                                                           0\n",
       "addr_state:VA                                                           0\n",
       "addr_state:VT                                                           0\n",
       "addr_state:WA                                                           0\n",
       "addr_state:WI                                                           0\n",
       "addr_state:WV                                                           0\n",
       "addr_state:WY                                                           0\n",
       "initial_list_status:f                                                   0\n",
       "initial_list_status:w                                                   0\n",
       "dtype: int64"
      ]
     },
     "execution_count": 78,
     "metadata": {},
     "output_type": "execute_result"
    }
   ],
   "source": [
    "loan_data.isnull().sum()"
   ]
  },
  {
   "cell_type": "code",
   "execution_count": null,
   "metadata": {},
   "outputs": [],
   "source": [
    "# We will need the following variables\n",
    "# annual_inc\n",
    "# delinq_2yrs\n",
    "# inq_last_6mths\n",
    "# open_acc\n",
    "# pub_rec \n",
    "# total_acc \n",
    "# acc_now_delinq\n",
    "# total_rev_hi_lim\n",
    "# emp_length_int\n",
    "# mths_since_earliest_cr_line"
   ]
  },
  {
   "cell_type": "code",
   "execution_count": 79,
   "metadata": {},
   "outputs": [],
   "source": [
    "loan_data['total_rev_hi_lim'].fillna(loan_data['funded_amnt'], inplace = True)"
   ]
  },
  {
   "cell_type": "code",
   "execution_count": 80,
   "metadata": {},
   "outputs": [
    {
     "data": {
      "text/plain": [
       "0"
      ]
     },
     "execution_count": 80,
     "metadata": {},
     "output_type": "execute_result"
    }
   ],
   "source": [
    "loan_data['total_rev_hi_lim'].isnull().sum()"
   ]
  },
  {
   "cell_type": "code",
   "execution_count": 84,
   "metadata": {},
   "outputs": [],
   "source": [
    "loan_data['annual_inc'].fillna(loan_data['annual_inc'].mean(), inplace = True)"
   ]
  },
  {
   "cell_type": "code",
   "execution_count": 85,
   "metadata": {},
   "outputs": [],
   "source": [
    "loan_data['delinq_2yrs'].fillna(0, inplace = True)\n",
    "loan_data['mths_since_earliest_cr_line'].fillna(0, inplace = True)\n",
    "loan_data['acc_now_delinq'].fillna(0, inplace = True)\n",
    "loan_data['total_acc'].fillna(0, inplace = True)\n",
    "loan_data['pub_rec'].fillna(0, inplace = True)\n",
    "loan_data['open_acc'].fillna(0, inplace = True)\n",
    "loan_data['inq_last_6mths'].fillna(0, inplace = True)\n",
    "loan_data['emp_length_int'].fillna(0, inplace = True)"
   ]
  },
  {
   "cell_type": "code",
   "execution_count": 86,
   "metadata": {},
   "outputs": [],
   "source": [
    "loan_data.to_csv(\"Preprocessed_gen_loan_data_2007_2014.csv\", index= False)"
   ]
  }
 ],
 "metadata": {
  "kernelspec": {
   "display_name": "Python 3.10 (tensorflow)",
   "language": "python",
   "name": "tensorflow"
  },
  "language_info": {
   "codemirror_mode": {
    "name": "ipython",
    "version": 3
   },
   "file_extension": ".py",
   "mimetype": "text/x-python",
   "name": "python",
   "nbconvert_exporter": "python",
   "pygments_lexer": "ipython3",
   "version": "3.10.9"
  },
  "orig_nbformat": 4
 },
 "nbformat": 4,
 "nbformat_minor": 2
}
